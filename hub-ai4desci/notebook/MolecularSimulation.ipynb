{
 "cells": [
  {
   "cell_type": "markdown",
   "id": "3d94040b-ad73-495c-bfd4-9f7413f2625b",
   "metadata": {},
   "source": [
    "# Molecular Simulation with GPU"
   ]
  },
  {
   "cell_type": "code",
   "execution_count": 1,
   "id": "3d39fdc7-6ee1-4814-bea2-e8d2e5825c59",
   "metadata": {},
   "outputs": [
    {
     "name": "stdout",
     "output_type": "stream",
     "text": [
      "/home/xixi/anaconda3/envs/AI4DeSci/bin/python3\n"
     ]
    }
   ],
   "source": [
    "import sys\n",
    "print(sys.executable)"
   ]
  },
  {
   "cell_type": "code",
   "execution_count": null,
   "id": "6281fa16-1df6-471a-bfbd-8781ed29b8c6",
   "metadata": {},
   "outputs": [],
   "source": []
  },
  {
   "cell_type": "code",
   "execution_count": null,
   "id": "168f7609-fa0a-411d-b676-7e27793c6fbd",
   "metadata": {},
   "outputs": [],
   "source": []
  },
  {
   "cell_type": "code",
   "execution_count": null,
   "id": "a23fce88-6015-40e0-8dfb-e441a77c6644",
   "metadata": {},
   "outputs": [],
   "source": []
  },
  {
   "cell_type": "code",
   "execution_count": null,
   "id": "20812c82-2c59-4f47-9cfa-530774f0b473",
   "metadata": {},
   "outputs": [],
   "source": []
  },
  {
   "cell_type": "code",
   "execution_count": null,
   "id": "3321a06b-4e0b-45b8-8442-3377ca7045d8",
   "metadata": {},
   "outputs": [],
   "source": []
  },
  {
   "cell_type": "markdown",
   "id": "ed67a36b-1e92-4984-8208-00ec8e3eb517",
   "metadata": {},
   "source": [
    "# Quantum Chemistry with ML Atom"
   ]
  },
  {
   "cell_type": "code",
   "execution_count": null,
   "id": "a9b28685-fa96-41a7-9d33-986411ba7433",
   "metadata": {},
   "outputs": [],
   "source": [
    "import mlatom as ml                                                                         # import MLatom module.\n",
    "ani = ml.models.methods(method='ANI-1ccx')                                                  # denfine an ANI-1cxx model.\n",
    "init_mol = ml.data.molecule.from_xyz_file('init.xyz')                                       # load the molecular structure.\n",
    "final_mol = ml.optimize_geometry(model=ani, initial_molecule=init_mol).optimized_molecule   # the optimized structure can be obtained by command.\n",
    "final_mol.xyz_coordinates                                                                   # we can see the coordinates of the last molecule.\n",
    "print(final_mol.get_xyz_string())                                                           # print the coordinates in \".xyz\" format.\n",
    "final_mol.write_file_with_xyz_coordinates(filename='opt.xyz')                              # save it in \"final.xyz\"."
   ]
  },
  {
   "cell_type": "code",
   "execution_count": null,
   "id": "4244f010-a895-47d1-a64a-7d54ab99ff76",
   "metadata": {},
   "outputs": [],
   "source": []
  },
  {
   "cell_type": "code",
   "execution_count": null,
   "id": "b7641c4a-a2a7-4f08-8c02-f3dd352af90d",
   "metadata": {},
   "outputs": [],
   "source": []
  }
 ],
 "metadata": {
  "kernelspec": {
   "display_name": "AI4DeSci",
   "language": "python",
   "name": "ai4desci"
  },
  "language_info": {
   "codemirror_mode": {
    "name": "ipython",
    "version": 3
   },
   "file_extension": ".py",
   "mimetype": "text/x-python",
   "name": "python",
   "nbconvert_exporter": "python",
   "pygments_lexer": "ipython3",
   "version": "3.12.3"
  }
 },
 "nbformat": 4,
 "nbformat_minor": 5
}
